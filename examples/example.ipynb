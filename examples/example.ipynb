{
 "cells": [
  {
   "metadata": {
    "ExecuteTime": {
     "end_time": "2024-10-27T13:16:09.149477Z",
     "start_time": "2024-10-27T13:16:09.133301Z"
    }
   },
   "cell_type": "code",
   "source": "from domgen.augment import SampleAugmentation",
   "id": "52f39527fce209b1",
   "outputs": [],
   "execution_count": 5
  },
  {
   "metadata": {
    "ExecuteTime": {
     "end_time": "2024-10-27T13:16:57.845133Z",
     "start_time": "2024-10-27T13:16:57.839414Z"
    }
   },
   "cell_type": "code",
   "source": [
    "sa = SampleAugmentation()\n",
    "print(sa)"
   ],
   "id": "96c76a3d3e1dd075",
   "outputs": [
    {
     "name": "stdout",
     "output_type": "stream",
     "text": [
      "<domgen.augment._sample.SampleAugmentation object at 0x1044981d0>\n"
     ]
    }
   ],
   "execution_count": 7
  }
 ],
 "metadata": {
  "kernelspec": {
   "display_name": "Python 3",
   "language": "python",
   "name": "python3"
  },
  "language_info": {
   "codemirror_mode": {
    "name": "ipython",
    "version": 2
   },
   "file_extension": ".py",
   "mimetype": "text/x-python",
   "name": "python",
   "nbconvert_exporter": "python",
   "pygments_lexer": "ipython2",
   "version": "2.7.6"
  }
 },
 "nbformat": 4,
 "nbformat_minor": 5
}
