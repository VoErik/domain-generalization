{
 "cells": [
  {
   "metadata": {},
   "cell_type": "markdown",
   "source": [
    "## Visualizing the Dataset\n",
    "\n",
    "First, we create the handler-class `PACS` (`Camelyon17`). Afterwards, we get the training and validation dataloaders. These loaders contain the concatenated datasets except for the `test_domain`. We set a `batch_size` of 6 for better visualization.\n",
    "The label mappings are stored directly in the handler class. This assumes that there is no label shift across domains.\n",
    "\n",
    "Lastly, we define a custom `show()` function that helps us visualize the batches with their corresponding labels and call the function on three batches from the train set."
   ],
   "id": "85ce52a68c763b42"
  },
  {
   "metadata": {},
   "cell_type": "code",
   "outputs": [],
   "execution_count": null,
   "source": [
    "import matplotlib.pyplot as plt\n",
    "from torchvision.utils import make_grid\n",
    "from domgen.data import PACS, Camelyon17\n",
    "from domgen.augment import denormalize\n",
    "from domgen.eval import plot_domain_images\n",
    "import albumentations as A\n",
    "\n",
    "augment = {\"noop\": A.NoOp(p=1)}\n",
    "name = \"Camelyon\"\n",
    "if name == \"PACS\":\n",
    "    data = PACS('../datasets/', test_domain=0, augment=augment)\n",
    "else:\n",
    "    data = Camelyon17('../datasets/', test_domain=0, augment=augment)\n",
    "\n",
    "train, val, test = data.generate_loaders(batch_size=6)\n",
    "\n",
    "idx_to_class = data.idx_to_class\n",
    "print(idx_to_class)\n",
    "\n",
    "def show(img, label):\n",
    "    fig = plt.figure()\n",
    "    plt.axis('off')\n",
    "    plt.imshow(img.permute(1,2,0))\n",
    "    plt.title(label)"
   ],
   "id": "3d30f77fb01e55ba"
  },
  {
   "metadata": {},
   "cell_type": "markdown",
   "source": [
    "### Visualize Grids with Labels\n",
    "\n",
    "Visualizing batches from the training and test set. Since the images are normalized, we need to denormalize them before visualizing.\n",
    "\n",
    "First, we visualize from the train set. There should be no members of the test domain.\n"
   ],
   "id": "6be2e85384cfbe21"
  },
  {
   "metadata": {},
   "cell_type": "code",
   "outputs": [],
   "execution_count": null,
   "source": [
    "for i in range(3):\n",
    "    images, labels = next(iter(train))\n",
    "    images = [denormalize(img, mean=[0.485, 0.456, 0.406], std=[0.229, 0.224, 0.225]) for (k, img) in images.items()]\n",
    "    grid = make_grid(images[0], scale_each=True)\n",
    "    labels = [idx_to_class[label.item()] for label in labels]\n",
    "    show(grid, labels)"
   ],
   "id": "ac7ab77539546b1b"
  },
  {
   "metadata": {},
   "cell_type": "markdown",
   "source": "Next, we visualize from the test set. There should only be members from the test domain:",
   "id": "372824e463f012c2"
  },
  {
   "metadata": {},
   "cell_type": "code",
   "outputs": [],
   "execution_count": null,
   "source": [
    "for i in range(1):\n",
    "    images, labels = next(iter(test))\n",
    "    images = [denormalize(img, mean=[0.485, 0.456, 0.406], std=[0.229, 0.224, 0.225]) for img in images]\n",
    "    grid = make_grid(images, scale_each=True)\n",
    "    labels = [idx_to_class[label.item()] for label in labels]\n",
    "    show(grid, labels)"
   ],
   "id": "ed5bd0befac4f3e9"
  },
  {
   "metadata": {},
   "cell_type": "markdown",
   "source": [
    "### Inspecting Class Images from the Different Domains\n",
    "\n",
    "To get greater insight into the different domains, we inspect images from the different classes from the domains."
   ],
   "id": "f90b31b8ba05d213"
  },
  {
   "metadata": {},
   "cell_type": "code",
   "outputs": [],
   "execution_count": null,
   "source": [
    "dataset_path = data.dir\n",
    "domains = data.domains\n",
    "classes = data.classes\n",
    "num_images = 5\n",
    "\n",
    "for domain in domains:\n",
    "    for class_name in classes:\n",
    "        plot_domain_images(dataset_path, domain, class_name, num_images=num_images)"
   ],
   "id": "2bc6f177c76db34"
  },
  {
   "metadata": {},
   "cell_type": "code",
   "outputs": [],
   "execution_count": null,
   "source": "",
   "id": "4af3460ca4b0945c"
  }
 ],
 "metadata": {
  "kernelspec": {
   "display_name": "Python 3",
   "language": "python",
   "name": "python3"
  },
  "language_info": {
   "codemirror_mode": {
    "name": "ipython",
    "version": 2
   },
   "file_extension": ".py",
   "mimetype": "text/x-python",
   "name": "python",
   "nbconvert_exporter": "python",
   "pygments_lexer": "ipython2",
   "version": "2.7.6"
  }
 },
 "nbformat": 4,
 "nbformat_minor": 5
}
