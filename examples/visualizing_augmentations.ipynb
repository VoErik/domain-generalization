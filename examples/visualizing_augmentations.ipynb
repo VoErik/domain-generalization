{
 "cells": [
  {
   "metadata": {},
   "cell_type": "markdown",
   "source": [
    "## Visualizing Augmentations\n",
    "\n",
    "In order to see if augmentations actually make sense for the dataset at hand, it is often helpful to visualize the augmentations. For that, we supply two visualization functions:\n",
    "\n",
    "1. Single Image Comparison: This functions plots the original image and the augmented image side by side. \n",
    "2. Augmentation Grid: This function takes a dictionary containing augmentations and plots them in a grid alongside the original image.\n",
    "3. Single Image Augmentation: This function augments the original image with the corruptions provided by the MedMNIST-C API (di Salvo, Doerrich & Ledig (2024)) for the PathMNIST dataset.\n",
    "\n",
    "**Note:** *It is important to note, that the last step in each augmentation is the transformation into a `torch.Tensor`.*"
   ],
   "id": "43e279d373523508"
  },
  {
   "metadata": {},
   "cell_type": "code",
   "execution_count": null,
   "source": [
    "from domgen.augment import plot_single_augmented, plot_augmented_grid, get_examples\n",
    "from medmnistc.corruptions.registry import CORRUPTIONS_DS\n",
    "from pathlib import Path\n",
    "from PIL import Image\n",
    "import numpy as np\n",
    "\n",
    "image_path = '../imgs/cat.jpg'\n",
    "augmentations = get_examples() # defines and returns a dictionary of example augmentations. "
   ],
   "id": "5e7420ad7c776a59",
   "outputs": []
  },
  {
   "metadata": {},
   "cell_type": "markdown",
   "source": "## Plot a Single Image",
   "id": "129fde3cfebf6370"
  },
  {
   "metadata": {},
   "cell_type": "code",
   "execution_count": null,
   "source": "plot_single_augmented(image_path, augmentations['Solarize'])",
   "id": "ac115a2fa3b89c6f",
   "outputs": []
  },
  {
   "metadata": {},
   "cell_type": "markdown",
   "source": "## Plot a Grid of Images",
   "id": "f8c84e4dd2f89844"
  },
  {
   "metadata": {},
   "cell_type": "code",
   "execution_count": null,
   "source": "plot_augmented_grid(image_path, augmentations, grid_cols=4)",
   "id": "b2bc5b84d3f457b5",
   "outputs": []
  },
  {
   "metadata": {},
   "cell_type": "code",
   "execution_count": null,
   "source": [
    "from domgen.data import PACS\n",
    "from domgen.augment import pacs_aug, denormalize\n",
    "import matplotlib.pyplot as plt\n",
    "from torchvision.utils import make_grid\n",
    "\n",
    "augment = pacs_aug\n",
    "data = PACS(root='../datasets/', test_domain=1, augment=augment)\n",
    "\n",
    "train, val, test = data.generate_loaders(batch_size=6)\n",
    "\n",
    "idx_to_class = data.idx_to_class\n",
    "print(idx_to_class)\n",
    "\n",
    "def show(img, label):\n",
    "    fig = plt.figure()\n",
    "    plt.axis('off')\n",
    "    plt.imshow(img.permute(1,2,0))\n",
    "    plt.title(label)"
   ],
   "id": "fe3f989971bce0c",
   "outputs": []
  },
  {
   "metadata": {},
   "cell_type": "code",
   "execution_count": null,
   "source": [
    "for i in range(3):\n",
    "    images, labels = next(iter(train))\n",
    "    images = [denormalize(img, mean=[0.485, 0.456, 0.406], std=[0.229, 0.224, 0.225]) for (k, img) in images.items()]\n",
    "    grid = make_grid(images[0], scale_each=True)\n",
    "    labels = [idx_to_class[label.item()] for label in labels]\n",
    "    show(grid, labels)"
   ],
   "id": "417b943db6677874",
   "outputs": []
  },
  {
   "metadata": {},
   "cell_type": "markdown",
   "source": "## Plot a Single Image with Corruptions from MedMNIST-C",
   "id": "5150886a486424cc"
  },
  {
   "metadata": {},
   "cell_type": "code",
   "outputs": [],
   "execution_count": null,
   "source": [
    "original_image_path = \"../imgs/original/camelyon17/patch_patient_004.png\"\n",
    "\n",
    "pathmnist_corruptions = CORRUPTIONS_DS.get(\"pathmnist\", {})\n",
    "\n",
    "output_dir = Path(\"../imgs/augmented/camelyon17/diSalvo\")\n",
    "output_dir.mkdir(parents=True, exist_ok=True)\n",
    "\n",
    "severity = 3\n",
    "for corruption_name, corruption_instance in pathmnist_corruptions.items():\n",
    "    print(f\"Applying corruption: {corruption_name} with severity {severity}\")\n",
    "\n",
    "    original_image_pil = Image.open(original_image_path)\n",
    "\n",
    "    if original_image_pil.mode == 'RGBA':\n",
    "        original_image_pil = original_image_pil.convert('RGB')\n",
    "\n",
    "    corrupted_image = corruption_instance.apply(original_image_pil, severity=severity)\n",
    "\n",
    "    if isinstance(corrupted_image, np.ndarray):\n",
    "        corrupted_image_pil = Image.fromarray(corrupted_image)\n",
    "    else:\n",
    "        corrupted_image_pil = corrupted_image\n",
    "\n",
    "    output_path = output_dir / f\"{corruption_name.lower().replace(' ', '_')}_sev{severity}.png\"\n",
    "    corrupted_image_pil.save(output_path, format='JPEG')\n",
    "    print(f\"Saved PNG image at: {output_path}\")"
   ],
   "id": "56a2166e70f9c972"
  }
 ],
 "metadata": {
  "kernelspec": {
   "display_name": "Python 3",
   "language": "python",
   "name": "python3"
  },
  "language_info": {
   "codemirror_mode": {
    "name": "ipython",
    "version": 2
   },
   "file_extension": ".py",
   "mimetype": "text/x-python",
   "name": "python",
   "nbconvert_exporter": "python",
   "pygments_lexer": "ipython2",
   "version": "2.7.6"
  }
 },
 "nbformat": 4,
 "nbformat_minor": 5
}
